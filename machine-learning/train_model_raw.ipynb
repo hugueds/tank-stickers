{
 "cells": [
  {
   "cell_type": "markdown",
   "metadata": {},
   "source": [
    "# AIR TANKS STICKER TRAIN MODEL"
   ]
  },
  {
   "cell_type": "markdown",
   "metadata": {},
   "source": [
    "### Import the modules"
   ]
  },
  {
   "cell_type": "code",
   "execution_count": 12,
   "metadata": {},
   "outputs": [],
   "source": [
    "import os\n",
    "import cv2 as cv\n",
    "import random\n",
    "from datetime import datetime\n",
    "import numpy as np\n",
    "import matplotlib.pyplot as plt\n",
    "from sklearn.model_selection import train_test_split\n",
    "from sklearn.metrics import classification_report\n",
    "from tensorflow.keras.utils import to_categorical\n",
    "from tensorflow.keras.preprocessing.image import ImageDataGenerator\n",
    "from tensorflow.keras.models import Sequential\n",
    "from tensorflow.keras.layers import Activation, Dense, Flatten, Conv2D, MaxPool2D, Dropout\n",
    "from tensorflow.keras.callbacks import EarlyStopping, TensorBoard"
   ]
  },
  {
   "cell_type": "markdown",
   "metadata": {},
   "source": [
    "### Path and model variables"
   ]
  },
  {
   "cell_type": "code",
   "execution_count": 13,
   "metadata": {},
   "outputs": [],
   "source": [
    "ROOT = '.'\n",
    "PATH = ROOT + \"./machine-learning/\"\n",
    "TRAIN_PATH = PATH + \"train\"\n",
    "TEST_PATH = PATH + \"test\"\n",
    "IMG_SIZE = 32\n",
    "CHANNELS = 1\n",
    "LABEL_FILE = 'labels.txt'"
   ]
  },
  {
   "cell_type": "markdown",
   "metadata": {},
   "source": [
    "### Get the labels from file"
   ]
  },
  {
   "cell_type": "code",
   "execution_count": 14,
   "metadata": {},
   "outputs": [
    {
     "name": "stdout",
     "output_type": "stream",
     "text": [
      "Labels: ['sticker_1', 'sticker_2', 'sticker_p', 'sticker_t', 'sticker_1_180', 'sticker_2_180', 'sticker_p_180', 'sticker_t_180', 'sticker_1_90', 'sticker_2_90', 'sticker_p_90', 'sticker_t_90']\n",
      "Number of classes: 12\n"
     ]
    }
   ],
   "source": [
    "labels = []\n",
    "with open(PATH + LABEL_FILE, \"r\") as file:\n",
    "    labels = file.read().splitlines()\n",
    "\n",
    "num_classes = len(labels)\n",
    "print('Labels: ' + str(labels))\n",
    "print('Number of classes: ' + str(num_classes))"
   ]
  },
  {
   "cell_type": "markdown",
   "metadata": {},
   "source": [
    "### Extract the images from the folder, load them into an array, convert them to gray if necessary and attach its labels"
   ]
  },
  {
   "cell_type": "code",
   "execution_count": 15,
   "metadata": {},
   "outputs": [
    {
     "name": "stdout",
     "output_type": "stream",
     "text": [
      "Add 126 images with label sticker_1 \n",
      "Add 105 images with label sticker_2 \n",
      "Add 45 images with label sticker_p \n",
      "Add 36 images with label sticker_t \n",
      "Add 105 images with label sticker_1_180 \n",
      "Add 98 images with label sticker_2_180 \n",
      "Add 45 images with label sticker_p_180 \n",
      "Add 36 images with label sticker_t_180 \n",
      "Add 106 images with label sticker_1_90 \n",
      "Add 99 images with label sticker_2_90 \n",
      "Add 90 images with label sticker_p_90 \n",
      "Add 52 images with label sticker_t_90 \n",
      "\n",
      "Total images: 943\n"
     ]
    }
   ],
   "source": [
    "i = 0\n",
    "dataset = []\n",
    "input_shape = (IMG_SIZE, IMG_SIZE, CHANNELS)\n",
    "\n",
    "for folder in labels:    \n",
    "    counter = 0\n",
    "    files = os.listdir(f'../images/{labels[i]}')\n",
    "    for file in files:\n",
    "        ext = file.split('.')[-1]\n",
    "        if ext in ['jpg', 'png']:\n",
    "            img = cv.imread(f'../images/{labels[i]}/{file}')\n",
    "            if CHANNELS == 1:\n",
    "                img = cv.cvtColor(img, cv.COLOR_BGR2GRAY)\n",
    "            img = cv.resize(img, input_shape[:2])\n",
    "            dataset.append([img, i])\n",
    "            counter += 1\n",
    "    print(f'Add {counter} images with label {labels[i]} ')\n",
    "    i += 1\n",
    "\n",
    "X = []\n",
    "y = []\n",
    "\n",
    "for image, label in dataset:\n",
    "    X.append(image)\n",
    "    y.append(label)\n",
    "\n",
    "print(f'\\nTotal images: {len(dataset)}')"
   ]
  },
  {
   "cell_type": "markdown",
   "metadata": {},
   "source": [
    "### Sample one image"
   ]
  },
  {
   "cell_type": "code",
   "execution_count": 16,
   "metadata": {},
   "outputs": [
    {
     "name": "stdout",
     "output_type": "stream",
     "text": [
      "Label: sticker_1_90\n"
     ]
    },
    {
     "data": {
      "image/png": "[encoded data removed]",
      "text/plain": [
       "<Figure size 432x288 with 1 Axes>"
      ]
     },
     "metadata": {
      "needs_background": "light"
     },
     "output_type": "display_data"
    }
   ],
   "source": [
    "index = random.randint(0,len(dataset) - 1)\n",
    "image = dataset[index][0]\n",
    "label = labels[dataset[index][1]]\n",
    "plt.imshow(image, cmap='gray')\n",
    "print(f'Label: {label}')\n"
   ]
  },
  {
   "cell_type": "markdown",
   "metadata": {},
   "source": [
    "### Convert the images to tensors and normalize them"
   ]
  },
  {
   "cell_type": "code",
   "execution_count": 17,
   "metadata": {},
   "outputs": [],
   "source": [
    "X = np.array(X).reshape(-1, IMG_SIZE, IMG_SIZE, CHANNELS)\n",
    "X = X / 255\n",
    "\n",
    "X_train, X_test, y_train, y_test = train_test_split(\n",
    "    X, y, test_size=0.1, random_state=42\n",
    ")\n",
    "\n",
    "x_train_mean = np.mean(X_train, axis=0)\n",
    "X_train -= x_train_mean\n",
    "X_test -= x_train_mean\n",
    "\n",
    "y_cat_train = to_categorical(y_train, num_classes)\n",
    "y_cat_test = to_categorical(y_test, num_classes)"
   ]
  },
  {
   "cell_type": "markdown",
   "metadata": {},
   "source": [
    "#### Create the model"
   ]
  },
  {
   "cell_type": "code",
   "execution_count": 18,
   "metadata": {},
   "outputs": [],
   "source": [
    "model = Sequential()\n",
    "\n",
    "model.add(\n",
    "    Conv2D(filters=32, kernel_size=(3,3), input_shape=input_shape, activation=\"relu\")\n",
    ")\n",
    "model.add(MaxPool2D(pool_size=(2, 2)))\n",
    "\n",
    "model.add(Conv2D(filters=64, kernel_size=(3,3), activation=\"relu\"))\n",
    "model.add(MaxPool2D(pool_size=(2, 2)))\n",
    "\n",
    "model.add(Flatten())\n",
    "\n",
    "model.add(Dense(128, activation=\"relu\"))\n",
    "model.add(Dropout(0.2))\n",
    "model.add(Dense(num_classes, activation=\"softmax\", kernel_initializer='he_normal'))\n",
    "\n",
    "\n",
    "log_dir = 'logs\\\\fit'\n",
    "\n",
    "board = TensorBoard(\n",
    "    log_dir=log_dir,\n",
    "    histogram_freq=1,\n",
    "    write_graph=True,\n",
    "    write_images=True,\n",
    "    update_freq='epoch',\n",
    "    profile_batch=2,\n",
    "    embeddings_freq=1\n",
    ")\n",
    "\n",
    "# Compile and Train\n",
    "model.compile(loss='categorical_crossentropy',\n",
    "        optimizer='adam',\n",
    "        metrics=['accuracy']\n",
    ")"
   ]
  },
  {
   "cell_type": "markdown",
   "metadata": {},
   "source": [
    "### Train"
   ]
  },
  {
   "cell_type": "code",
   "execution_count": 19,
   "metadata": {},
   "outputs": [
    {
     "name": "stdout",
     "output_type": "stream",
     "text": [
      "Epoch 1/10\n",
      "  2/191 [..............................] - ETA: 46s - loss: 2.5525 - accuracy: 0.0000e+00WARNING:tensorflow:Callbacks method `on_train_batch_end` is slow compared to the batch time (batch time: 0.0190s vs `on_train_batch_end` time: 0.4600s). Check your callbacks.\n",
      "191/191 [==============================] - 5s 24ms/step - loss: 1.9108 - accuracy: 0.3434 - val_loss: 1.2976 - val_accuracy: 0.6353\n",
      "Epoch 2/10\n",
      "191/191 [==============================] - 4s 20ms/step - loss: 0.7563 - accuracy: 0.7497 - val_loss: 0.6239 - val_accuracy: 0.8235\n",
      "Epoch 3/10\n",
      "191/191 [==============================] - 4s 19ms/step - loss: 0.3978 - accuracy: 0.8820 - val_loss: 0.4719 - val_accuracy: 0.8353\n",
      "Epoch 4/10\n",
      "191/191 [==============================] - 4s 19ms/step - loss: 0.2633 - accuracy: 0.9148 - val_loss: 0.3104 - val_accuracy: 0.8941\n",
      "Epoch 5/10\n",
      "191/191 [==============================] - 4s 21ms/step - loss: 0.1898 - accuracy: 0.9423 - val_loss: 0.3065 - val_accuracy: 0.8941\n",
      "Epoch 6/10\n",
      "191/191 [==============================] - 4s 20ms/step - loss: 0.0974 - accuracy: 0.9738 - val_loss: 0.2396 - val_accuracy: 0.9059\n",
      "Epoch 7/10\n",
      "191/191 [==============================] - 4s 21ms/step - loss: 0.0838 - accuracy: 0.9738 - val_loss: 0.2182 - val_accuracy: 0.9176\n",
      "Epoch 8/10\n",
      "191/191 [==============================] - 4s 21ms/step - loss: 0.0500 - accuracy: 0.9856 - val_loss: 0.2282 - val_accuracy: 0.9176\n",
      "Epoch 9/10\n",
      "191/191 [==============================] - 4s 20ms/step - loss: 0.0610 - accuracy: 0.9882 - val_loss: 0.1548 - val_accuracy: 0.9294\n",
      "Epoch 10/10\n",
      "191/191 [==============================] - 4s 20ms/step - loss: 0.0936 - accuracy: 0.9817 - val_loss: 0.3848 - val_accuracy: 0.8706\n"
     ]
    },
    {
     "data": {
      "text/plain": [
       "<tensorflow.python.keras.callbacks.History at 0x19ed8a3eec8>"
      ]
     },
     "execution_count": 19,
     "metadata": {},
     "output_type": "execute_result"
    }
   ],
   "source": [
    "batch_size = 4\n",
    "epochs = 10\n",
    "callbacks = [EarlyStopping(patience=2), board]\n",
    "\n",
    "model.fit(X_train, y_cat_train, batch_size=batch_size, epochs=epochs, callbacks=callbacks, validation_split=0.1, )"
   ]
  },
  {
   "cell_type": "markdown",
   "metadata": {},
   "source": [
    "#### Evaluate the model"
   ]
  },
  {
   "cell_type": "code",
   "execution_count": 9,
   "metadata": {},
   "outputs": [
    {
     "name": "stdout",
     "output_type": "stream",
     "text": [
      "3/3 [==============================] - 0s 11ms/step - loss: 0.3175 - accuracy: 0.9158\n",
      "LOSS: 0.31749677658081055, ACC: 91.57894849777222\n",
      "              precision    recall  f1-score   support\n",
      "\n",
      "           0       0.86      1.00      0.92        12\n",
      "           1       0.69      0.82      0.75        11\n",
      "           2       1.00      1.00      1.00         6\n",
      "           3       0.80      1.00      0.89         4\n",
      "           4       0.89      1.00      0.94         8\n",
      "           5       1.00      0.67      0.80        12\n",
      "           6       1.00      1.00      1.00         4\n",
      "           7       1.00      0.80      0.89         5\n",
      "           8       1.00      1.00      1.00        10\n",
      "           9       1.00      0.90      0.95        10\n",
      "          10       1.00      1.00      1.00         7\n",
      "          11       1.00      1.00      1.00         6\n",
      "\n",
      "    accuracy                           0.92        95\n",
      "   macro avg       0.94      0.93      0.93        95\n",
      "weighted avg       0.93      0.92      0.92        95\n",
      "\n"
     ]
    }
   ],
   "source": [
    "loss, acc = model.evaluate(X_test, y_cat_test)\n",
    "\n",
    "print(\"LOSS: {}, ACC: {}\".format(loss, acc * 100))\n",
    "\n",
    "pred = np.argmax(model.predict(X_test), axis=-1)\n",
    "print(classification_report(y_test, pred))"
   ]
  },
  {
   "cell_type": "markdown",
   "metadata": {},
   "source": [
    "### Write model to file"
   ]
  },
  {
   "cell_type": "code",
   "execution_count": 10,
   "metadata": {},
   "outputs": [
    {
     "name": "stdout",
     "output_type": "stream",
     "text": [
      "TRAINING PROCESS DONE!\n",
      "\n"
     ]
    }
   ],
   "source": [
    "now = datetime.now()\n",
    "str_date = now.strftime(\"%Y-%m-%d_%H%M%S\")\n",
    "file_name = f\"../models/stickers_{IMG_SIZE}x{IMG_SIZE}.h5\"\n",
    "\n",
    "model.save(file_name)\n",
    "\n",
    "print(\"TRAINING PROCESS DONE!\\n\")"
   ]
  },
  {
   "cell_type": "code",
   "execution_count": 11,
   "metadata": {},
   "outputs": [
    {
     "name": "stderr",
     "output_type": "stream",
     "text": [
      "UsageError: Line magic function `%tensorboard` not found.\n"
     ]
    }
   ],
   "source": [
    "# %cd ..\n",
    "%tensorboard --logdir ../logs"
   ]
  },
  {
   "cell_type": "code",
   "execution_count": null,
   "metadata": {},
   "outputs": [],
   "source": []
  },
  {
   "cell_type": "code",
   "execution_count": null,
   "metadata": {},
   "outputs": [],
   "source": []
  }
 ],
 "metadata": {
  "kernelspec": {
   "display_name": "Python 3",
   "language": "python",
   "name": "python3"
  },
  "language_info": {
   "codemirror_mode": {
    "name": "ipython",
    "version": 3
   },
   "file_extension": ".py",
   "mimetype": "text/x-python",
   "name": "python",
   "nbconvert_exporter": "python",
   "pygments_lexer": "ipython3",
   "version": "3.7.7"
  }
 },
 "nbformat": 4,
 "nbformat_minor": 4
}
